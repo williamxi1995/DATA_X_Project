{
 "cells": [
  {
   "cell_type": "code",
   "execution_count": 10,
   "metadata": {},
   "outputs": [],
   "source": [
    "import pandas as pd\n",
    "import matplotlib.pyplot as plt\n",
    "%matplotlib inline"
   ]
  },
  {
   "cell_type": "code",
   "execution_count": 11,
   "metadata": {},
   "outputs": [],
   "source": [
    "train_1 = pd.read_csv('ACT1_train_450.csv', dtype={\"MOLECULE\": object, \"Act\": float})"
   ]
  },
  {
   "cell_type": "code",
   "execution_count": 12,
   "metadata": {},
   "outputs": [],
   "source": [
    "from sklearn.model_selection import train_test_split\n",
    "import numpy as np\n",
    "y = train_1['Act'].values\n",
    "train_1 = train_1.drop(['Act', 'Unnamed: 0'], axis = 1)\n",
    "x = train_1.values\n",
    "X_train, X_test, Y_train, Y_test = train_test_split(x, y, train_size = 0.80, random_state = 0)\n",
    "\n"
   ]
  },
  {
   "cell_type": "code",
   "execution_count": 13,
   "metadata": {},
   "outputs": [
    {
     "name": "stdout",
     "output_type": "stream",
     "text": [
      "(29792,) (29792, 442) (7449,) (7449, 442)\n"
     ]
    }
   ],
   "source": [
    "print(np.shape(Y_train), np.shape(X_train), np.shape(Y_test), np.shape(X_test))\n",
    "Y_train = np.reshape(Y_train,(len(Y_train),1))\n",
    "Y_test = np.reshape(Y_test,(len(Y_test),1))\n"
   ]
  },
  {
   "cell_type": "code",
   "execution_count": 14,
   "metadata": {},
   "outputs": [],
   "source": [
    "def r_square(y, y_pred):\n",
    "    \"\"\" r^2 value defined by the competition host, r^2 = 1 indicates 100% prediction accuracy\n",
    "    \"\"\"\n",
    "    avx = np.mean(y)\n",
    "    avy = np.mean(y_pred)\n",
    "    sum1, sumx, sumy = 0, 0, 0\n",
    "    for i in range(len(y)):\n",
    "        sum1 += (y[i] - avx)*(y_pred[i] - avy)\n",
    "        sumx += (y[i] - avx)*(y[i] - avx)\n",
    "        sumy += (y_pred[i] - avy)*(y_pred[i] - avy)\n",
    "#     print(len(y), sum1, sumx, sumy)\n",
    "    return sum1*sum1/(sumx*sumy)"
   ]
  },
  {
   "cell_type": "code",
   "execution_count": 15,
   "metadata": {},
   "outputs": [],
   "source": [
    "from sklearn.ensemble import RandomForestRegressor\n",
    "#clean up output\n",
    "import warnings\n",
    "warnings.simplefilter(action='ignore', category=FutureWarning)\n",
    "\n",
    "from sklearn.model_selection import cross_val_score\n",
    "model = RandomForestRegressor(n_estimators=500, bootstrap = True, max_features = 'sqrt')\n",
    "\n",
    "\n"
   ]
  },
  {
   "cell_type": "code",
   "execution_count": 19,
   "metadata": {},
   "outputs": [
    {
     "name": "stdout",
     "output_type": "stream",
     "text": [
      "[5.6186 4.3003 4.3003 ... 4.3003 5.0018 4.3003]\n"
     ]
    }
   ],
   "source": [
    "#custom R_2 score function\n",
    "from sklearn.metrics import make_scorer\n",
    "R_2 = make_scorer(r_square)\n",
    "#clean up y\n",
    "Y_train = np.ravel(Y_train)\n",
    "print(Y_train)"
   ]
  },
  {
   "cell_type": "code",
   "execution_count": 20,
   "metadata": {},
   "outputs": [
    {
     "name": "stdout",
     "output_type": "stream",
     "text": [
      "14896 3312.215827875345 6233.600912871346 2771.05750555498\n",
      "14896 3338.435854238405 6250.494278747458 2852.441202105416\n",
      "[0.63511552 0.62510793]\n",
      "The average accuracy is: 0.6301117239653153\n"
     ]
    }
   ],
   "source": [
    "#cross validation\n",
    "scores = cross_val_score(model,X_train, Y_train, cv = 7, scoring = R_2)\n",
    "print(scores)\n",
    "print('The average accuracy is:', scores.mean())"
   ]
  },
  {
   "cell_type": "code",
   "execution_count": 21,
   "metadata": {},
   "outputs": [],
   "source": [
    "# #R_2 value\n",
    "# # Fit on training data\n",
    "# model.fit(X_train, Y_train)\n",
    "# acc = model.score(X_test, Y_test)\n",
    "# predictions = model.predict(X_test)\n",
    "# print(r_square(predictions,Y_test))"
   ]
  },
  {
   "cell_type": "code",
   "execution_count": null,
   "metadata": {},
   "outputs": [],
   "source": []
  }
 ],
 "metadata": {
  "kernelspec": {
   "display_name": "Python 3",
   "language": "python",
   "name": "python3"
  },
  "language_info": {
   "codemirror_mode": {
    "name": "ipython",
    "version": 3
   },
   "file_extension": ".py",
   "mimetype": "text/x-python",
   "name": "python",
   "nbconvert_exporter": "python",
   "pygments_lexer": "ipython3",
   "version": "3.6.7"
  }
 },
 "nbformat": 4,
 "nbformat_minor": 2
}
